{
 "cells": [
  {
   "cell_type": "code",
   "execution_count": 1,
   "id": "91eac9fc",
   "metadata": {},
   "outputs": [
    {
     "name": "stderr",
     "output_type": "stream",
     "text": [
      "USER_AGENT environment variable not set, consider setting it to identify your requests.\n"
     ]
    }
   ],
   "source": [
    "import requests\n",
    "from bs4 import BeautifulSoup\n",
    "from langchain.document_loaders import WebBaseLoader\n",
    "from bs4 import SoupStrainer\n",
    "from threading import Thread\n",
    "import os\n",
    "#import re"
   ]
  },
  {
   "cell_type": "markdown",
   "id": "aff23692",
   "metadata": {},
   "source": [
    "## Extracting data from version 4.1 or higher"
   ]
  },
  {
   "cell_type": "code",
   "execution_count": 2,
   "id": "cd1ff702",
   "metadata": {},
   "outputs": [],
   "source": [
    "version = '4.5'\n",
    "if float(version) <= 4: print('Warning, this method works only for blender verson 4.1 or higher')\n",
    "base_url = f'https://docs.blender.org/manual/en/{version}/'"
   ]
  },
  {
   "cell_type": "code",
   "execution_count": 3,
   "id": "d1835dcc",
   "metadata": {},
   "outputs": [],
   "source": [
    "response = requests.get(base_url)\n",
    "bs = BeautifulSoup(response.text,'lxml')"
   ]
  },
  {
   "cell_type": "code",
   "execution_count": 4,
   "id": "1155ca33",
   "metadata": {},
   "outputs": [
    {
     "data": {
      "text/plain": [
       "2112"
      ]
     },
     "execution_count": 4,
     "metadata": {},
     "output_type": "execute_result"
    }
   ],
   "source": [
    "side_bar = bs.find('div',{'class':'sidebar-tree'})\n",
    "bs_side_bar = BeautifulSoup(str(side_bar),'lxml')\n",
    "side_bar_items = bs_side_bar.find_all('a')\n",
    "len(side_bar_items)"
   ]
  },
  {
   "cell_type": "code",
   "execution_count": 20,
   "id": "c1e1b33a",
   "metadata": {},
   "outputs": [
    {
     "data": {
      "text/plain": [
       "1721"
      ]
     },
     "execution_count": 20,
     "metadata": {},
     "output_type": "execute_result"
    }
   ],
   "source": [
    "links = {}\n",
    "for item in side_bar_items:\n",
    "    link = item.get('href')\n",
    "    if link and not link.endswith('index.html'):\n",
    "        full_link = base_url + link\n",
    "        if full_link not in links:\n",
    "            links[full_link] = item.text\n",
    "\n",
    "len(links)"
   ]
  },
  {
   "cell_type": "code",
   "execution_count": null,
   "id": "37276a79",
   "metadata": {},
   "outputs": [],
   "source": []
  },
  {
   "cell_type": "code",
   "execution_count": 9,
   "id": "56c8179c",
   "metadata": {},
   "outputs": [],
   "source": [
    "def extract_docs(links:dict,n_jobs=5):\n",
    "    infos = list(links.keys())\n",
    "    values = list(links.values())\n",
    "\n",
    "    threads = []\n",
    "    results = [0]*len(infos)\n",
    "    n_jobs = n_jobs if n_jobs > 0 else os.cpu_count()\n",
    "    for i in range(n_jobs):\n",
    "        thread = Thread(target=worker, args=(infos,values,i,n_jobs,results ))\n",
    "        threads.append(thread)\n",
    "        thread.start()\n",
    "\n",
    "    for p in threads:\n",
    "        p.join()\n",
    "\n",
    "    return [item for items in results for item in items ]\n",
    "\n",
    "\n",
    "def worker(infos,values,start,inc,results):\n",
    "    for i in range(start,len(infos),inc):\n",
    "        web_loader = WebBaseLoader(values[i],bs_kwargs=dict( parse_only=SoupStrainer('article') ) )\n",
    "        docs = web_loader.load()\n",
    "        for doc in docs:\n",
    "            doc.metadata['info'] = infos[i]\n",
    "            doc.metadata['version'] = version #values[i]['version']\n",
    "        results[i] = docs"
   ]
  },
  {
   "cell_type": "code",
   "execution_count": 10,
   "id": "80f51c96",
   "metadata": {},
   "outputs": [],
   "source": [
    "docs = extract_docs(links,n_jobs=-1)"
   ]
  },
  {
   "cell_type": "code",
   "execution_count": 11,
   "id": "43f8be1e",
   "metadata": {},
   "outputs": [
    {
     "data": {
      "text/plain": [
       "1292"
      ]
     },
     "execution_count": 11,
     "metadata": {},
     "output_type": "execute_result"
    }
   ],
   "source": [
    "len(docs)"
   ]
  },
  {
   "cell_type": "code",
   "execution_count": 12,
   "id": "2ffc5209",
   "metadata": {},
   "outputs": [],
   "source": [
    "from langchain_text_splitters import RecursiveCharacterTextSplitter\n",
    "text_splitter = RecursiveCharacterTextSplitter(chunk_size = 2000,chunk_overlap = 300)\n",
    "docs_split = text_splitter.split_documents(docs)"
   ]
  },
  {
   "cell_type": "code",
   "execution_count": 13,
   "id": "e1727ff2",
   "metadata": {},
   "outputs": [],
   "source": [
    "from langchain.vectorstores import FAISS\n",
    "from langchain_ollama import OllamaEmbeddings"
   ]
  },
  {
   "cell_type": "code",
   "execution_count": 14,
   "id": "6df77f72",
   "metadata": {},
   "outputs": [],
   "source": [
    "embedding = OllamaEmbeddings(base_url='localhost:11434',model='nomic-embed-text')"
   ]
  },
  {
   "cell_type": "code",
   "execution_count": 18,
   "id": "41983899",
   "metadata": {},
   "outputs": [],
   "source": [
    "vectorstore = FAISS.from_documents(docs_split,embedding=embedding)\n",
    "vectorstore.save_local(f'vectordb_{version}')"
   ]
  },
  {
   "cell_type": "code",
   "execution_count": null,
   "id": "7a4e2319",
   "metadata": {},
   "outputs": [],
   "source": []
  }
 ],
 "metadata": {
  "kernelspec": {
   "display_name": "ml_web_env",
   "language": "python",
   "name": "python3"
  },
  "language_info": {
   "codemirror_mode": {
    "name": "ipython",
    "version": 3
   },
   "file_extension": ".py",
   "mimetype": "text/x-python",
   "name": "python",
   "nbconvert_exporter": "python",
   "pygments_lexer": "ipython3",
   "version": "3.11.13"
  }
 },
 "nbformat": 4,
 "nbformat_minor": 5
}
