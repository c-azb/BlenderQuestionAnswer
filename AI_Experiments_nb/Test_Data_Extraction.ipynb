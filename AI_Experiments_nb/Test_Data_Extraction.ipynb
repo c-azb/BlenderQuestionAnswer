{
 "cells": [
  {
   "cell_type": "code",
   "execution_count": 1,
   "id": "001f7d1c",
   "metadata": {},
   "outputs": [],
   "source": [
    "import os\n",
    "import sys\n",
    "APP_DIR = os.path.abspath('../BlenderQuestionAnswer_app')\n",
    "VECTOR_DATABASES_DIR = os.path.join(APP_DIR,'Blender_Agentic_RAG/VectorDataBases')\n",
    "sys.path.append(APP_DIR)"
   ]
  },
  {
   "cell_type": "code",
   "execution_count": 2,
   "id": "6f3ba245",
   "metadata": {},
   "outputs": [
    {
     "name": "stderr",
     "output_type": "stream",
     "text": [
      "USER_AGENT environment variable not set, consider setting it to identify your requests.\n"
     ]
    }
   ],
   "source": [
    "from Blender_Agentic_RAG.data_extraction.main_data_extraction import create_vector_db\n",
    "from Blender_Agentic_RAG.data_extraction.utils import EmbeddingsSource,VectorDBSource"
   ]
  },
  {
   "cell_type": "code",
   "execution_count": 3,
   "id": "9c8b34d0",
   "metadata": {},
   "outputs": [
    {
     "name": "stdout",
     "output_type": "stream",
     "text": [
      "Extracting links for version 4.5\n",
      "Extracted 1721 urls\n",
      "Extracting docs\n",
      "Spliting docs\n",
      "Creating vectordb\n"
     ]
    },
    {
     "data": {
      "text/plain": [
       "True"
      ]
     },
     "execution_count": 3,
     "metadata": {},
     "output_type": "execute_result"
    }
   ],
   "source": [
    "create_vector_db(version = '4.5',\n",
    "                 path = VECTOR_DATABASES_DIR,\n",
    "                 embeddings_source = EmbeddingsSource.OLLAMA,\n",
    "                 vectordb_source = VectorDBSource.FAISS,\n",
    "                 model_name = 'nomic-embed-text',\n",
    "                 chunk_size = 2000, \n",
    "                 chunk_overlap = 300,\n",
    "                 n_jobs = -1,\n",
    "                 links_limit = None)"
   ]
  },
  {
   "cell_type": "code",
   "execution_count": null,
   "id": "166f383c",
   "metadata": {},
   "outputs": [],
   "source": []
  },
  {
   "cell_type": "code",
   "execution_count": null,
   "id": "3900a1ea",
   "metadata": {},
   "outputs": [],
   "source": []
  },
  {
   "cell_type": "code",
   "execution_count": null,
   "id": "55deb31e",
   "metadata": {},
   "outputs": [],
   "source": []
  }
 ],
 "metadata": {
  "kernelspec": {
   "display_name": "ml_web_env",
   "language": "python",
   "name": "python3"
  },
  "language_info": {
   "codemirror_mode": {
    "name": "ipython",
    "version": 3
   },
   "file_extension": ".py",
   "mimetype": "text/x-python",
   "name": "python",
   "nbconvert_exporter": "python",
   "pygments_lexer": "ipython3",
   "version": "3.11.13"
  }
 },
 "nbformat": 4,
 "nbformat_minor": 5
}
