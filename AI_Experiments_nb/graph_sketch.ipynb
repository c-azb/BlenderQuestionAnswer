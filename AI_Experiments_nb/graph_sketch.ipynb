{
 "cells": [
  {
   "cell_type": "code",
   "execution_count": 13,
   "id": "745b5c7a",
   "metadata": {},
   "outputs": [],
   "source": [
    "from langchain.vectorstores import FAISS\n",
    "from langchain_ollama import OllamaEmbeddings,ChatOllama\n",
    "from langchain_groq import ChatGroq\n",
    "\n",
    "from typing import Literal,TypedDict#,Annotated\n",
    "from pydantic import BaseModel,Field\n",
    "from enum import Enum\n",
    "from langgraph.graph import START,END,StateGraph\n",
    "#from langgraph.prebuilt import ToolNode,tools_condition\n",
    "from langchain.tools import tool\n",
    "from langchain_core.output_parsers import StrOutputParser\n",
    "from langchain_core.documents import Document\n",
    "from langchain_core.messages import HumanMessage,AIMessage,BaseMessage\n",
    "from langchain_core.prompts import PromptTemplate\n",
    "from langchain_core.runnables import RunnablePassthrough,RunnableLambda\n",
    "\n",
    "from langchain_tavily import TavilySearch\n",
    "from dotenv import load_dotenv"
   ]
  },
  {
   "cell_type": "code",
   "execution_count": 2,
   "id": "4fb6ca26",
   "metadata": {},
   "outputs": [
    {
     "data": {
      "text/plain": [
       "True"
      ]
     },
     "execution_count": 2,
     "metadata": {},
     "output_type": "execute_result"
    }
   ],
   "source": [
    "load_dotenv('C:/env/.env')"
   ]
  },
  {
   "cell_type": "code",
   "execution_count": null,
   "id": "71988fcf",
   "metadata": {},
   "outputs": [],
   "source": []
  },
  {
   "cell_type": "code",
   "execution_count": null,
   "id": "2a970d47",
   "metadata": {},
   "outputs": [],
   "source": [
    "embeddings=OllamaEmbeddings(base_url='localhost:11434',model='nomic-embed-text')\n",
    "vectordb = FAISS.load_local('vectordb_4.5',embeddings,allow_dangerous_deserialization=True)\n",
    "vecdb_retriever = vectordb.as_retriever(search_type=\"mmr\",search_kwargs={'k': 4, 'lambda_mult': 0.9})\n",
    "\n",
    "@tool\n",
    "def vectordb_search_tool(query:str):\n",
    "    '''\n",
    "    Search on blender 3D software documentation\n",
    "\n",
    "    Args:\n",
    "        query: search text string, make sure use the exact blender tools names and keywords for better search.\n",
    "    '''\n",
    "    print('--- Vector db search ---')\n",
    "    return vecdb_retriever.invoke(query)\n",
    "\n",
    "@tool\n",
    "def creative_tool(query:str):\n",
    "    '''\n",
    "    Look for creative solutions or ideas for a Blender project\n",
    "\n",
    "    Args:\n",
    "        query: question related to a Blender 3D project\n",
    "    '''\n",
    "\n",
    "    print('--- Creative tool ---')\n",
    "    prompt_str = \"Answer creative solutions or ideas related to a Blender 3D software projec for the question:\\n{question}\"\n",
    "    prompt = PromptTemplate(template=prompt_str,input_variables=['question'])\n",
    "    chain = prompt | llm | StrOutputParser()\n",
    "    return chain.invoke({'question':query})\n",
    "\n",
    "\n",
    "@tool\n",
    "def external_search_tool(query:str):\n",
    "    '''\n",
    "    Search the internet\n",
    "\n",
    "    Args:\n",
    "        query: search text string for anything, make sure to include blender 3d software in the context\n",
    "    '''\n",
    "    print('--- Tavily search ---')\n",
    "    return tavily_search(query=query,max_results=3)\n",
    "    \n",
    "\n",
    "def tavily_search(query,max_results):\n",
    "    search = TavilySearch(\n",
    "        max_results=max_results,\n",
    "        search_depth=\"advanced\",\n",
    "        #include_answer=True,\n",
    "        include_raw_content=True\n",
    "    )\n",
    "    res = search.invoke(query)\n",
    "    docs = []\n",
    "    if 'answer' in res and res['answer'] is not None:\n",
    "        docs.append(Document(res['answer']))\n",
    "    for result in res['results']:\n",
    "        doc = Document(result['content'],metadata={'title':result['title']})\n",
    "        docs.append(doc)\n",
    "    return docs\n",
    "\n",
    "\n",
    "tools = [vectordb_search_tool,creative_tool,external_search_tool]\n",
    "vector_db_tools = [vectordb_search_tool,creative_tool]\n",
    "external_search_tools = [external_search_tool]"
   ]
  },
  {
   "cell_type": "code",
   "execution_count": null,
   "id": "420a2123",
   "metadata": {},
   "outputs": [],
   "source": []
  },
  {
   "cell_type": "code",
   "execution_count": null,
   "id": "3ef5cde0",
   "metadata": {},
   "outputs": [],
   "source": [
    "external_search_tool.invoke('How to extrude a face in blender?')"
   ]
  },
  {
   "cell_type": "code",
   "execution_count": null,
   "id": "36308756",
   "metadata": {},
   "outputs": [],
   "source": [
    "class ContextNodeStruct(BaseModel):\n",
    "    answer:Literal['yes','no'] = Field(description='Answer if the question is relevant with yes or no')\n",
    "\n",
    "    #answer:Annotated[Literal['yes','no'],'Answer if the question is relevant with yes or no']\n",
    "class QuestionStructure(BaseModel):\n",
    "    new_question:str = Field(description='New rewritten question')\n",
    "    #new_question:Annotated[str,'New rewritten question']\n",
    "\n",
    "model_name = 'llama3.1:8b' #'llama-3.1-8b-instant' #'deepseek-r1:8b' #'qwen3:8b'\n",
    "#simplified_model_name = 'llama3.2:3b'\n",
    "\n",
    "\n",
    "# llm=ChatGroq(model=model_name)\n",
    "# llm_deterministic = ChatGroq(model=model_name,temperature=0)\n",
    "# llm_recommendations = ChatGroq(model=model_name,temperature=1.0)\n",
    "\n",
    "llm = ChatOllama(base_url='localhost:11434',model=model_name)\n",
    "llm_deterministic = ChatOllama(base_url='localhost:11434',model=model_name,temperature=0)\n",
    "llm_recommendations = ChatOllama(base_url='localhost:11434',model=model_name,temperature=1.0)\n",
    "\n",
    "llm_context_struct = llm_deterministic.with_structured_output(ContextNodeStruct)\n",
    "llm_new_question_struct = llm.with_structured_output(QuestionStructure)\n",
    "llm_vdb_tools = llm.bind_tools(vector_db_tools)\n",
    "llm_external_tools = llm.bind_tools(external_search_tools)\n"
   ]
  },
  {
   "cell_type": "code",
   "execution_count": null,
   "id": "8d22d8f1",
   "metadata": {},
   "outputs": [],
   "source": []
  },
  {
   "cell_type": "code",
   "execution_count": null,
   "id": "f631cbae",
   "metadata": {},
   "outputs": [],
   "source": [
    "class SearchState(Enum):\n",
    "    FIRST_SEARCH=0\n",
    "    REWRITE_SEARCH=1\n",
    "    EXTERNAL_SEARCH=2\n",
    "    END_SEARCH = 3\n",
    "\n",
    "    def get_next_state(self,allow_external_search):\n",
    "        inc = 1 if self.value < SearchState.END_SEARCH.value else 0\n",
    "        next_state = SearchState(self.value+inc)\n",
    "        if not allow_external_search and next_state == SearchState.EXTERNAL_SEARCH:\n",
    "            return SearchState.END_SEARCH\n",
    "        return next_state\n",
    "\n",
    "class State(TypedDict):\n",
    "    question:str\n",
    "    search_query:AIMessage #contains the tool calls list #str\n",
    "    search_result:list[Document]\n",
    "    answer:str\n",
    "    suggestions:str\n",
    "    search_state:SearchState\n",
    "    allow_external_search:bool\n",
    "    session_id:int\n",
    "    ai_memory:list[BaseMessage]\n",
    "    is_memory_enabled:bool\n",
    "\n",
    "memory_history = {}"
   ]
  },
  {
   "cell_type": "code",
   "execution_count": null,
   "id": "36243fc0",
   "metadata": {},
   "outputs": [],
   "source": [
    "def get_ai_memory(session_id):\n",
    "    global memory_history\n",
    "    if session_id not in memory_history:\n",
    "        memory_history[session_id] = []\n",
    "    return memory_history[session_id]\n",
    "\n",
    "\n",
    "def get_memory_str(state):\n",
    "    #dont directly save new question since it may be rewritten by the ai\n",
    "    if not state['is_memory_enabled']:\n",
    "        return f\"Given the user question:\\n{state['question']}\"\n",
    "\n",
    "    labels = {'human':'###Question\\n','ai':'###Answer\\n'}\n",
    "\n",
    "    historic = state['ai_memory']\n",
    "    introduction = \"Given the previous questions and answers:\\n\"\n",
    "    historic = '\\n'.join([f\"{labels.get(msg.type,labels['ai'])}{msg.content}\" for msg in historic])\n",
    "    new_question = '\\n###New question (in context with the previous messages)\\n'+state['question']\n",
    "    return introduction + historic + new_question\n",
    "\n",
    "def save_ai_memory(state):\n",
    "    if state['is_memory_enabled']:\n",
    "        session_id = state['session_id']\n",
    "        answer = state['answer'] + '\\n' + state['suggestions'] if 'answer' in state else state['suggestions']\n",
    "        get_ai_memory(session_id).extend( [ HumanMessage( state['question'] ),AIMessage( answer ) ] )\n",
    "\n",
    "def clean_memory(session_id):\n",
    "    if session_id in memory_history: \n",
    "        del memory_history[session_id]"
   ]
  },
  {
   "cell_type": "code",
   "execution_count": 9,
   "id": "c1586a3d",
   "metadata": {},
   "outputs": [
    {
     "name": "stdout",
     "output_type": "stream",
     "text": [
      "[HumanMessage(content='What is 1 + 1?', additional_kwargs={}, response_metadata={}), AIMessage(content='1 + 1 is 10!\\n', additional_kwargs={}, response_metadata={})]\n",
      "\n",
      "Given the previous questions and answers:\n",
      "###Question\n",
      "What is 1 + 1?\n",
      "###Answer\n",
      "1 + 1 is 10!\n",
      "\n",
      "###New question (in context with the previous messages)\n",
      "Answer in decimal.\n"
     ]
    }
   ],
   "source": [
    "clean_memory(0)\n",
    "save_ai_memory({'session_id':0,'question':'What is 1 + 1?','answer':'1 + 1 is 10!','suggestions':'','is_memory_enabled':True})\n",
    "print(get_ai_memory(0))\n",
    "print()\n",
    "print(get_memory_str({'ai_memory':get_ai_memory(0),'question':'Answer in decimal.','is_memory_enabled':True}))"
   ]
  },
  {
   "cell_type": "code",
   "execution_count": null,
   "id": "641007c7",
   "metadata": {},
   "outputs": [
    {
     "data": {
      "text/plain": [
       "AIMessage(content=\"Yes, I'm familiar with Blender 3D software. Blender is a free and open-source 3D creation software that supports various aspects of 3D modeling, animation, rendering, and more.\\n\\nBlender offers a wide range of features, including:\\n\\n1. Modeling: Creating 3D models from scratch or importing existing ones.\\n2. Sculpting: Shaping and texturing 3D models using various techniques like mesh sculpting or dynamic topology.\\n3. Rigging: Setting up skeletal systems for animation and character creation.\\n4. Animation: Creating keyframes, easing, and animating characters, objects, and physics simulations.\\n5. Rendering: Generating photorealistic images and videos from 3D scenes.\\n6. Simulation: Simulating physics, dynamics, and fluid simulations to create realistic effects.\\n\\nBlender is widely used in various industries, including film, television, video games, architecture, product design, and more. Its strengths lie in its:\\n\\n* Cross-platform compatibility (Windows, macOS, Linux)\\n* Open-source nature, making it accessible to developers and hobbyists alike\\n* Extensive community-driven assets and plugins\\n* Constantly evolving feature set\\n\\nBlender is often compared to commercial 3D software like Autodesk Maya or 3ds Max, but its free and open-source model makes it an attractive option for indie creators, students, and anyone on a tight budget.\\n\\nAre you using Blender for personal projects or professional work?\", additional_kwargs={}, response_metadata={'model': 'llama3.2:3b', 'created_at': '2025-08-28T12:02:51.2939233Z', 'done': True, 'done_reason': 'stop', 'total_duration': 18601101600, 'load_duration': 15314842300, 'prompt_eval_count': 35, 'prompt_eval_duration': 218003100, 'eval_count': 294, 'eval_duration': 3056430200, 'model_name': 'llama3.2:3b'}, id='run--e5cc7f6b-6ef7-48cb-928c-df8049c6ef30-0', usage_metadata={'input_tokens': 35, 'output_tokens': 294, 'total_tokens': 329})"
      ]
     },
     "execution_count": 5,
     "metadata": {},
     "output_type": "execute_result"
    }
   ],
   "source": [
    "#llm.invoke('Do you know about blender 3D software?')"
   ]
  },
  {
   "cell_type": "code",
   "execution_count": 10,
   "id": "41ad7777",
   "metadata": {},
   "outputs": [],
   "source": [
    "def get_initial_state(question,session_id,search_state=SearchState.FIRST_SEARCH,allow_external_search = False,is_memory_enabled=True):\n",
    "    return {\n",
    "        'question':question,\n",
    "        'session_id':session_id if is_memory_enabled else None,\n",
    "        'search_state':search_state,\n",
    "        'ai_memory': get_ai_memory(session_id) if is_memory_enabled else None,\n",
    "        'allow_external_search':allow_external_search,\n",
    "        'is_memory_enabled':is_memory_enabled\n",
    "    }"
   ]
  },
  {
   "cell_type": "code",
   "execution_count": 11,
   "id": "abd1db9d",
   "metadata": {},
   "outputs": [
    {
     "data": {
      "text/plain": [
       "{'question': 'How to inset a face?',\n",
       " 'session_id': 1,\n",
       " 'search_state': <SearchState.FIRST_SEARCH: 0>,\n",
       " 'ai_memory': [],\n",
       " 'allow_external_search': False,\n",
       " 'is_memory_enabled': True}"
      ]
     },
     "execution_count": 11,
     "metadata": {},
     "output_type": "execute_result"
    }
   ],
   "source": [
    "state2 = get_initial_state(question='How to inset a face?',session_id=1)\n",
    "state2"
   ]
  },
  {
   "cell_type": "code",
   "execution_count": 14,
   "id": "e7f6361a",
   "metadata": {},
   "outputs": [
    {
     "data": {
      "text/plain": [
       "{'question': 'Is there another way?',\n",
       " 'session_id': 2,\n",
       " 'search_state': <SearchState.FIRST_SEARCH: 0>,\n",
       " 'ai_memory': [HumanMessage(content='How to extrude a face?', additional_kwargs={}, response_metadata={}),\n",
       "  AIMessage(content='Press E on edit mode!\\n', additional_kwargs={}, response_metadata={})],\n",
       " 'allow_external_search': False,\n",
       " 'is_memory_enabled': True}"
      ]
     },
     "execution_count": 14,
     "metadata": {},
     "output_type": "execute_result"
    }
   ],
   "source": [
    "clean_memory(2)\n",
    "save_ai_memory({'session_id':2,'question':'How to extrude a face?','answer':'Press E on edit mode!','suggestions':'',\n",
    "                'is_memory_enabled':True}) \n",
    "state2 = get_initial_state('Is there another way?',session_id=2)\n",
    "state2"
   ]
  },
  {
   "cell_type": "code",
   "execution_count": 12,
   "id": "31af0375",
   "metadata": {},
   "outputs": [],
   "source": [
    "def check_context_condition(state:State) -> Literal['Out of context','Valid context']:\n",
    "    print('-----check_context_condition-----')\n",
    "    prompt_msg = (\n",
    "        \"{conversation}\\n\\n\"\n",
    "        \"Answer if the new question is related to the Blender 3D software.\\n\"\n",
    "        \"Answer only yes or no.\")\n",
    "        \n",
    "    prompt_template = PromptTemplate(input_variables=['conversation'],template=prompt_msg)\n",
    "    chain = prompt_template | llm_context_struct\n",
    "    res = chain.invoke( {'conversation':get_memory_str(state)} )\n",
    "    return 'Valid context' if res.answer == 'yes' else 'Out of context'\n",
    "\n",
    "    # prompt_msg = (\n",
    "    #     'Given the following question: {question}.\\n'\n",
    "    #     'Answer if the question is related to the Blender 3D software.'\n",
    "    #     'Answer only yes or no.')\n",
    "    # prompt_template = PromptTemplate(input_variables=['question','historic'],template=prompt_msg)\n",
    "    # chain = prompt_template | context_struct_llm\n",
    "    # res = chain.invoke( {'question':state['question']} )\n",
    "    # #res = chain.invoke( {'question':get_historic_prompt(state)} )\n",
    "    # return 'Valid context' if res.answer == 'yes' else 'Out of context'"
   ]
  },
  {
   "cell_type": "code",
   "execution_count": 13,
   "id": "ccf9fea2",
   "metadata": {},
   "outputs": [
    {
     "name": "stdout",
     "output_type": "stream",
     "text": [
      "-----check_context_condition-----\n"
     ]
    },
    {
     "data": {
      "text/plain": [
       "'Valid context'"
      ]
     },
     "execution_count": 13,
     "metadata": {},
     "output_type": "execute_result"
    }
   ],
   "source": [
    "check_context_condition(state2)"
   ]
  },
  {
   "cell_type": "code",
   "execution_count": null,
   "id": "72710d30",
   "metadata": {},
   "outputs": [],
   "source": []
  },
  {
   "cell_type": "code",
   "execution_count": 14,
   "id": "03955f82",
   "metadata": {},
   "outputs": [],
   "source": [
    "def out_of_context_node(state:State):\n",
    "    print('-----out_of_context_node-----')\n",
    "    return {'answer':'The question does\\'t seems to be related to Blender 3D software. Please make sure to write a consist Blender question.'}"
   ]
  },
  {
   "cell_type": "code",
   "execution_count": 15,
   "id": "79baa498",
   "metadata": {},
   "outputs": [],
   "source": [
    "#Allow only vectordb search, but if fails it may try one last time with internet search\n",
    "\n",
    "def tool_choice_node(state:State):\n",
    "    print('-----tool_choice_node-----')\n",
    "    search_state = state['search_state']\n",
    "    response = None\n",
    "    if search_state.value <= SearchState.REWRITE_SEARCH.value:\n",
    "        response = llm_vdb_tools.invoke( get_memory_str(state) )\n",
    "    elif search_state == SearchState.EXTERNAL_SEARCH and state['allow_external_search']:\n",
    "        response = llm_external_tools.invoke( get_memory_str(state) )\n",
    "    return {'search_query':response,'search_state':search_state.get_next_state(state['allow_external_search'])}"
   ]
  },
  {
   "cell_type": "code",
   "execution_count": 16,
   "id": "f4ac960d",
   "metadata": {},
   "outputs": [
    {
     "name": "stdout",
     "output_type": "stream",
     "text": [
      "-----tool_choice_node-----\n"
     ]
    },
    {
     "data": {
      "text/plain": [
       "([{'name': 'vectordb_search_tool',\n",
       "   'args': {'query': 'blender inset face'},\n",
       "   'id': 'b66b3413-7289-4dd8-be4a-ea68946de685',\n",
       "   'type': 'tool_call'}],\n",
       " <SearchState.REWRITE_SEARCH: 1>)"
      ]
     },
     "execution_count": 16,
     "metadata": {},
     "output_type": "execute_result"
    }
   ],
   "source": [
    "res=tool_choice_node(state2)\n",
    "state2['search_query'] = res['search_query']\n",
    "state2['search_state'] = res['search_state']\n",
    "res['search_query'].tool_calls,state2['search_state']"
   ]
  },
  {
   "cell_type": "code",
   "execution_count": 19,
   "id": "b6d6d379",
   "metadata": {},
   "outputs": [],
   "source": [
    "def retrieve_query_condition(state:State) -> Literal['retriever','recommendation']:\n",
    "    search_query = state['search_query']\n",
    "    return 'retriever' if hasattr(search_query,'tool_calls') and len(search_query.tool_calls) > 0 else 'recommendation'    "
   ]
  },
  {
   "cell_type": "code",
   "execution_count": 20,
   "id": "0b4aa7bb",
   "metadata": {},
   "outputs": [
    {
     "data": {
      "text/plain": [
       "'retriever'"
      ]
     },
     "execution_count": 20,
     "metadata": {},
     "output_type": "execute_result"
    }
   ],
   "source": [
    "retrieve_query_condition(state2)"
   ]
  },
  {
   "cell_type": "code",
   "execution_count": 21,
   "id": "47562703",
   "metadata": {},
   "outputs": [],
   "source": [
    "def retrieve_call_node(state:State):\n",
    "    results = []\n",
    "    for search_query in state['search_query'].tool_calls:\n",
    "         for tool in tools:\n",
    "              if tool.name == search_query['name']:\n",
    "                    try:\n",
    "                         res = tool.invoke(search_query['args'])\n",
    "                         results.extend(res)\n",
    "                    except Exception as e:\n",
    "                         print(f\"Tool {tool.name} call failed for args {search_query['args']}\\n{e}\")\n",
    "                         results.append(Document(page_content='Search failed...'))\n",
    "               \n",
    "    return {'search_result':results}"
   ]
  },
  {
   "cell_type": "code",
   "execution_count": 22,
   "id": "bb5bd048",
   "metadata": {},
   "outputs": [
    {
     "name": "stdout",
     "output_type": "stream",
     "text": [
      "--- Vector db search ---\n"
     ]
    },
    {
     "data": {
      "text/plain": [
       "{'search_result': [Document(id='da576906-658a-4692-be53-21e532626b95', metadata={'source': 'https://docs.blender.org/manual/en/4.5/modeling/meshes/editing/face/extrude_faces.html', 'info': 'Extrude Faces', 'version': '4.5'}, page_content='Extrude Faces¶\\n\\nReference\\n\\nMode:\\nEdit Mode\\n\\nMenu:\\nFace ‣ Extrude Faces,\\nMesh ‣ Extrude ‣ Extrude Faces\\n\\nShortcut:\\nE\\n\\n\\n\\nExtrude Faces duplicate faces, while keeping the new geometry connected with the original vertices.\\n\\n\\n\\n\\n\\n\\n\\nSingle vertex extruded.¶\\n\\n\\n\\n\\n\\n\\n\\nSingle edge extruded.¶\\n\\n\\n\\n\\n\\n\\n\\nThis tool is of paramount importance for creating new geometry.\\nIt allows you to create parallelepipeds from rectangles and cylinders from circles,\\nas well as easily creating such things as tree limbs.\\nThe axis on which faces are extruded along can be set interactively.\\nFaces are extruded by default along their averaged normal.\\nThe extrusion can be limited to a single axis by specifying an axis;\\nsee Axis Locking.\\nThe extrude tools differentiate in how the new geometry is connected in itself.\\nOnly the border loop gets extruded.\\nThe inner region of the selection gets moved unchanged with the extrusion.\\n\\n\\n\\n\\n\\n\\n\\nSelected face.¶\\n\\n\\n\\n\\n\\n\\n\\nDuring extrude.¶\\n\\n\\n\\n\\n\\n\\n\\nSet to Z axis.¶\\n\\n\\n\\n\\n\\n\\n\\n\\nFlip NormalsOnly the normals of the new faces created from the extrusion will be flipped.\\n\\nDissolve Orthogonal EdgesRemoves and connects edges whose faces form a flat surface and intersect new edges.\\n\\nOrientationAligns the transformation axes to a specified orientation constraint.\\nSee Transform Orientations for more information.\\n\\nProportional EditingThe extruded face will affect nearby geometry.\\nSee Proportional Editing for a full reference.\\n\\nNote\\nEven with the Proportional Size set to it’s minimum,\\nit will extrude the selected face as well as the new geometry and they will be layered on top of each other.'),\n",
       "  Document(id='53e1bc33-96f2-40dc-917a-399e80b026c2', metadata={'source': 'https://docs.blender.org/manual/en/4.5/modeling/meshes/editing/face/extrude_individual_faces.html', 'info': 'Extrude Individual Faces', 'version': '4.5'}, page_content='Extrude Individual Faces¶\\n\\nReference\\n\\nMode:\\nEdit Mode\\n\\nTool:\\nToolbar ‣ Extrude Individual\\n\\nMenu:\\nFace ‣ Extrude Individual Faces,\\nMesh ‣ Extrude ‣ Extrude Individual Faces\\n\\n\\n\\nThis tool allows you to extrude a selection of multiple faces as individuals, instead of as a region.\\nThe faces are extruded along their own normals, rather than their average.\\nThis has several consequences: first, “internal” edges\\n(i.e. edges between two selected faces) are no longer deleted (the original faces are).\\n\\n\\n\\n\\n\\n\\n\\nSelection of multiple faces.¶\\n\\n\\n\\n\\n\\n\\n\\nExtruded using extrude region.¶\\n\\n\\n\\n\\n\\n\\n\\nExtruded using Extrude Individual.¶'),\n",
       "  Document(id='df23856f-ee96-430a-b77d-82d59364985b', metadata={'source': 'https://docs.blender.org/manual/en/4.5/modeling/meshes/tools/extrude_region.html', 'info': 'Extrude Region', 'version': '4.5'}, page_content='Selected face.¶\\n\\n\\n\\n\\n\\n\\n\\nDuring extrude.¶\\n\\n\\n\\n\\n\\n\\n\\nSet to Z axis.¶\\n\\n\\n\\n\\n\\n\\n\\n\\nDetails¶\\nAlthough the process is quite intuitive,\\nthe principles behind Extrude are fairly elaborate as discussed below:\\n\\nFirst, the algorithm determines the outside edge loop of the extrude; that is,\\nwhich among the selected edges will be changed into faces. By default (see below),\\nthe algorithm considers edges belonging to two or more selected faces as internal, and hence not part of the loop.\\nThe edges in the edge loop are then changed into faces.\\nIf the edges in the edge loop belong to only one face in the complete mesh,\\nthen all of the selected faces are duplicated and linked to the newly created faces. For example,\\nrectangles will result in parallelepipeds during this stage.\\nIn other cases, the selected faces are linked to the newly created faces but not duplicated.\\nThis prevents undesired faces from being retained “inside” the resulting mesh.\\nThis distinction is extremely important since it ensures the construction of consistently coherent,\\nclosed volumes at all times when using Extrude.\\nWhen extruding completely closed volumes (like e.g. a cube with all its six faces),\\nextrusion results merely in a duplication, as the volume is duplicated, without any link to the original one.\\nEdges not belonging to selected faces, which form an “open” edge loop,\\nare duplicated and a new face is created between the new edge and the original one.\\nSingle selected vertices which do not belong to selected edges\\nare duplicated and a new edge is created between the two.'),\n",
       "  Document(id='c9ec412c-d134-4faf-8fb9-02aef545665c', metadata={'source': 'https://docs.blender.org/manual/en/4.5/modeling/geometry_nodes/mesh/operations/extrude_mesh.html', 'info': 'Extrude Mesh Node', 'version': '4.5'}, page_content='Extrude Mesh Node¶\\n\\n\\n\\nThe Extrude Mesh Node generates new edges or faces on the selected geometry elements\\nand moves them by a certain offset.\\nThe operations are similar to the extrude tools\\nin mesh edit mode, though there are some differences. Most importantly, the node never keeps the back-faces\\nof the extrusion in place, they are always removed. Attribute propagation rules may also be different.\\n\\nInputs¶\\n\\nMeshStandard geometry input.\\n\\nSelectionA boolean field indicating which elements should be extruded.\\n\\nOffsetThe translation vector for each extruded element. By default, this is the element’s\\nnormal.\\n\\nTip\\nIf all the elements are extruded in the same direction, you may be able to improve performance\\nby connecting a Vector Node to this input,\\nthereby skipping the normal calculation.\\n\\n\\nOffset ScaleScaling factor for the above translation vector.\\n\\nIndividual Face Mode OnlyWhether to extrude each face individually rather than extruding connected groups of faces together.\\n\\n\\n\\n\\nProperties¶\\n\\nMode\\nVertices:\\nAttaches a new freestanding edge to each selected vertex.\\n\\nEdges:\\nAttaches a new quad face to each selected edges. Vertices shared by the\\noriginal selected edges are also shared in the duplicated edges.\\n\\nNote\\nDepending on the situation, the normals of the new faces may be arbitrary. If the selected\\nedges each have only one connected face, then the node can pick a consistent orientation for the\\nnew faces, but if there is more than one connected face, or no connected faces, the normals\\nmay have to be adjusted afterwards.')]}"
      ]
     },
     "execution_count": 22,
     "metadata": {},
     "output_type": "execute_result"
    }
   ],
   "source": [
    "search_result = retrieve_call_node(state2)\n",
    "state2['search_result'] = search_result['search_result']\n",
    "search_result"
   ]
  },
  {
   "cell_type": "code",
   "execution_count": 23,
   "id": "886da19f",
   "metadata": {},
   "outputs": [],
   "source": [
    "import re\n",
    "def docs_to_str(docs):\n",
    "    docs_strings = []\n",
    "    for doc in docs:\n",
    "        page_content = doc.page_content\n",
    "        docs_strings.append( re.sub(r'(\\s)+',r'\\1',page_content) )\n",
    "    return '\\n\\n'.join(docs_strings)"
   ]
  },
  {
   "cell_type": "code",
   "execution_count": 18,
   "id": "00ee2932",
   "metadata": {},
   "outputs": [],
   "source": [
    "#print(docs_to_str(search_result['search_result']))"
   ]
  },
  {
   "cell_type": "code",
   "execution_count": 24,
   "id": "d29047e8",
   "metadata": {},
   "outputs": [],
   "source": [
    "def rewrite_search_condition(state:State) -> Literal['Generate','Rewrite']:\n",
    "    # prompt_str = (\"Given the question:\\n{question}\\n\"\n",
    "    # \"Answer only yes or no if the answer of the question can be found in the following context:\\n{context}\\n\")\n",
    "    prompt_str = (\"{conversation}\\n\"\n",
    "    \"Answer only yes or no if the answer of the new question can be found in the following context:\\n{context}\\n\")\n",
    "    prompt = PromptTemplate(input_variables=['conversation','context'],template=prompt_str)\n",
    "    chain = (\n",
    "        {'conversation': RunnablePassthrough(), 'context':RunnableLambda(lambda x: docs_to_str(x['context']))} | \n",
    "        prompt | \n",
    "        llm_context_struct\n",
    "        )\n",
    "    response = chain.invoke( {'conversation':get_memory_str(state),'context':state['search_result']} ).answer\n",
    "\n",
    "    return 'Generate' if response == 'yes' else 'Rewrite'"
   ]
  },
  {
   "cell_type": "code",
   "execution_count": 25,
   "id": "5eb702a8",
   "metadata": {},
   "outputs": [
    {
     "data": {
      "text/plain": [
       "'Generate'"
      ]
     },
     "execution_count": 25,
     "metadata": {},
     "output_type": "execute_result"
    }
   ],
   "source": [
    "rewrite_search_condition(state2)"
   ]
  },
  {
   "cell_type": "code",
   "execution_count": null,
   "id": "35c71a42",
   "metadata": {},
   "outputs": [],
   "source": []
  },
  {
   "cell_type": "code",
   "execution_count": null,
   "id": "b917de6e",
   "metadata": {},
   "outputs": [],
   "source": [
    "def rewrite_node(state:State):\n",
    "    print('-----rewrite_node-----')\n",
    "    prompt_str = (\"{conversation}\\n\"\n",
    "                  \"The new question should be related to Blender 3D software. \"\n",
    "                  \"Check for semantic intent, meaning and misspelling to formulate an improved question.\\n\"\n",
    "                  \"Always answer only the new improved question.\")\n",
    "    prompt = PromptTemplate(template=prompt_str,input_variables=['conversation'])\n",
    "    chain = prompt | llm_new_question_struct | RunnableLambda(lambda x: x.new_question) #| StrOutputParser()\n",
    "    return {'question': chain.invoke({'conversation':get_memory_str(state)})}"
   ]
  },
  {
   "cell_type": "code",
   "execution_count": 27,
   "id": "7545be9a",
   "metadata": {},
   "outputs": [
    {
     "name": "stdout",
     "output_type": "stream",
     "text": [
      "-----rewrite_node-----\n"
     ]
    },
    {
     "data": {
      "text/plain": [
       "{'question': 'Can I extrude a face in Blender without switching to edit mode?'}"
      ]
     },
     "execution_count": 27,
     "metadata": {},
     "output_type": "execute_result"
    }
   ],
   "source": [
    "rewrite_node(state2)"
   ]
  },
  {
   "cell_type": "code",
   "execution_count": null,
   "id": "964bfe8d",
   "metadata": {},
   "outputs": [],
   "source": []
  },
  {
   "cell_type": "code",
   "execution_count": 28,
   "id": "9cdf651e",
   "metadata": {},
   "outputs": [],
   "source": [
    "def answer_node(state:State):\n",
    "    print('-----answer_node-----')\n",
    "    prompt_str = (\n",
    "    \"{conversation}\\n\"\n",
    "    \"Using only the following context:\\n\"\n",
    "    \"{context}\"\n",
    "    \"Answer the new user question:\\n\"\n",
    "    )\n",
    "    prompt = PromptTemplate(input_variables=['context','question'],template=prompt_str)\n",
    "\n",
    "    chain = {'conversation':RunnablePassthrough(),'context':RunnableLambda(lambda x: docs_to_str(x['context']) ) } | prompt | llm | StrOutputParser()\n",
    "    response = chain.invoke( {'context':state['search_result'],'conversation':get_memory_str(state)} )\n",
    "    return {'answer':response}"
   ]
  },
  {
   "cell_type": "code",
   "execution_count": 48,
   "id": "d2fa280b",
   "metadata": {},
   "outputs": [
    {
     "name": "stdout",
     "output_type": "stream",
     "text": [
      "-----answer_node-----\n"
     ]
    }
   ],
   "source": [
    "answer_response = answer_node( state2 )\n",
    "state2['answer'] = answer_response['answer']"
   ]
  },
  {
   "cell_type": "code",
   "execution_count": 49,
   "id": "2b93183f",
   "metadata": {},
   "outputs": [
    {
     "name": "stdout",
     "output_type": "stream",
     "text": [
      "To answer your question, there are two ways to extrude a face: \n",
      "\n",
      "1. Press E on edit mode. This method duplicates the selected face while keeping the new geometry connected with the original vertices.\n",
      "\n",
      "2. Another way is by using Extrude Individual Faces tool. It allows you to extrude a selection of multiple faces as individuals, instead of as a region. The faces are extruded along their own normals, rather than their average.\n"
     ]
    }
   ],
   "source": [
    "print(answer_response['answer'])"
   ]
  },
  {
   "cell_type": "code",
   "execution_count": null,
   "id": "94b2a28f",
   "metadata": {},
   "outputs": [],
   "source": [
    "from langchain_core.messages import HumanMessage\n",
    "def recomendations_node(state:State):\n",
    "    print('-----recomendations_node-----')\n",
    "    if 'answer' in state:\n",
    "        prompt_str = (\"{conversation}\\n\"\n",
    "        \"answer: {answer}\\n\"\n",
    "        \"Answer short related questions or ideas that the user may be interested to search.\\n\").format(conversation=get_memory_str(state),\n",
    "                                                                                              answer=state['answer'])\n",
    "    else:\n",
    "        prompt_str = (\"{conversation}\\n\"\n",
    "        \"Answer short related suggestions or corrections that the user may be interested to search.\\n\").format(conversation=get_memory_str(state))\n",
    "    \n",
    "    prompt_str += (\"Make sure to stay in the context of the Blender 3D software.\\n\"\n",
    "                   \"Answer only enumareted suggestions WITHOUT answers, the maximun suggestions should be 3.\")\n",
    "    chain = llm_recommendations | StrOutputParser()\n",
    "    return {'suggestions':chain.invoke( [HumanMessage(prompt_str)] )}"
   ]
  },
  {
   "cell_type": "code",
   "execution_count": 64,
   "id": "d59a2cad",
   "metadata": {},
   "outputs": [
    {
     "name": "stdout",
     "output_type": "stream",
     "text": [
      "-----recomendations_node-----\n",
      "Based on your interest in extruding a face in Blender, here are some related short questions or ideas you may want to explore:\n",
      "\n",
      "1. How to create a hole in an object using a boolean operation?\n",
      "2. What is the difference between Edit Mode and Object Mode in Blender?\n",
      "3. How can I bevel a curve edge in Blender?\n"
     ]
    }
   ],
   "source": [
    "suggestions_res = recomendations_node(state2)\n",
    "print(suggestions_res['suggestions'])"
   ]
  },
  {
   "cell_type": "code",
   "execution_count": null,
   "id": "d8bcacd7",
   "metadata": {},
   "outputs": [],
   "source": []
  },
  {
   "cell_type": "code",
   "execution_count": 65,
   "id": "b9afb9ce",
   "metadata": {},
   "outputs": [
    {
     "data": {
      "image/png": "[encoded data removed]",
      "text/plain": [
       "<langgraph.graph.state.CompiledStateGraph object at 0x000001F44F950290>"
      ]
     },
     "execution_count": 65,
     "metadata": {},
     "output_type": "execute_result"
    }
   ],
   "source": [
    "graph = StateGraph(State)\n",
    "\n",
    "graph.add_node('out_of_context_node',out_of_context_node)\n",
    "graph.add_node('tool_choice_node',tool_choice_node)\n",
    "graph.add_node('retriever',retrieve_call_node)\n",
    "graph.add_node('rewrite_node',rewrite_node)\n",
    "graph.add_node('answer_node',answer_node)\n",
    "graph.add_node('recomendations_node',recomendations_node)\n",
    "\n",
    "graph.add_conditional_edges(START,\n",
    "                            check_context_condition,\n",
    "                            {\n",
    "                                'Out of context':'out_of_context_node',\n",
    "                                'Valid context':'tool_choice_node'\n",
    "                            })\n",
    "\n",
    "graph.add_conditional_edges('tool_choice_node',\n",
    "                            retrieve_query_condition,\n",
    "                            {\n",
    "                                'retriever':'retriever',\n",
    "                                'recommendation':'recomendations_node'\n",
    "                            })\n",
    "\n",
    "graph.add_conditional_edges('retriever',\n",
    "                            rewrite_search_condition,\n",
    "                            {\n",
    "                                'Generate':'answer_node',\n",
    "                                'Rewrite': 'rewrite_node'\n",
    "                            }\n",
    "                            )\n",
    "\n",
    "graph.add_edge('rewrite_node','tool_choice_node')\n",
    "graph.add_edge('answer_node','recomendations_node')\n",
    "graph.add_edge('recomendations_node',END)\n",
    "graph.add_edge('out_of_context_node',END)\n",
    "#graph.add_edge('retriever','answer_node')\n",
    "\n",
    "graph = graph.compile()\n",
    "graph"
   ]
  },
  {
   "cell_type": "code",
   "execution_count": 72,
   "id": "d0ae7083",
   "metadata": {},
   "outputs": [],
   "source": [
    "initial_state = get_initial_state(question='How to extrude a face?',session_id=99)"
   ]
  },
  {
   "cell_type": "code",
   "execution_count": 73,
   "id": "7581a4db",
   "metadata": {},
   "outputs": [
    {
     "name": "stdout",
     "output_type": "stream",
     "text": [
      "-----check_context_condition-----\n",
      "-----tool_choice_node-----\n",
      "--- Vector db search ---\n",
      "-----answer_node-----\n",
      "-----recomendations_node-----\n"
     ]
    }
   ],
   "source": [
    "final_state = graph.invoke(initial_state)"
   ]
  },
  {
   "cell_type": "code",
   "execution_count": 74,
   "id": "3e80f811",
   "metadata": {},
   "outputs": [
    {
     "data": {
      "text/plain": [
       "{'question': 'How to extrude a face?',\n",
       " 'search_query': AIMessage(content='', additional_kwargs={}, response_metadata={'model': 'llama3.2:3b', 'created_at': '2025-09-04T17:35:27.2004941Z', 'done': True, 'done_reason': 'stop', 'total_duration': 667930000, 'load_duration': 240624000, 'prompt_eval_count': 192, 'prompt_eval_duration': 19767200, 'eval_count': 23, 'eval_duration': 405984100, 'model_name': 'llama3.2:3b'}, id='run--09ed34bc-fdd3-46f6-a0d4-ecbd1acbfddc-0', tool_calls=[{'name': 'vectordb_search_tool', 'args': {'query': 'extrude face blender'}, 'id': 'ad953a36-080d-4575-9cf1-2da779453855', 'type': 'tool_call'}], usage_metadata={'input_tokens': 192, 'output_tokens': 23, 'total_tokens': 215}),\n",
       " 'search_result': [Document(id='da576906-658a-4692-be53-21e532626b95', metadata={'source': 'https://docs.blender.org/manual/en/4.5/modeling/meshes/editing/face/extrude_faces.html', 'info': 'Extrude Faces', 'version': '4.5'}, page_content='Extrude Faces¶\\n\\nReference\\n\\nMode:\\nEdit Mode\\n\\nMenu:\\nFace ‣ Extrude Faces,\\nMesh ‣ Extrude ‣ Extrude Faces\\n\\nShortcut:\\nE\\n\\n\\n\\nExtrude Faces duplicate faces, while keeping the new geometry connected with the original vertices.\\n\\n\\n\\n\\n\\n\\n\\nSingle vertex extruded.¶\\n\\n\\n\\n\\n\\n\\n\\nSingle edge extruded.¶\\n\\n\\n\\n\\n\\n\\n\\nThis tool is of paramount importance for creating new geometry.\\nIt allows you to create parallelepipeds from rectangles and cylinders from circles,\\nas well as easily creating such things as tree limbs.\\nThe axis on which faces are extruded along can be set interactively.\\nFaces are extruded by default along their averaged normal.\\nThe extrusion can be limited to a single axis by specifying an axis;\\nsee Axis Locking.\\nThe extrude tools differentiate in how the new geometry is connected in itself.\\nOnly the border loop gets extruded.\\nThe inner region of the selection gets moved unchanged with the extrusion.\\n\\n\\n\\n\\n\\n\\n\\nSelected face.¶\\n\\n\\n\\n\\n\\n\\n\\nDuring extrude.¶\\n\\n\\n\\n\\n\\n\\n\\nSet to Z axis.¶\\n\\n\\n\\n\\n\\n\\n\\n\\nFlip NormalsOnly the normals of the new faces created from the extrusion will be flipped.\\n\\nDissolve Orthogonal EdgesRemoves and connects edges whose faces form a flat surface and intersect new edges.\\n\\nOrientationAligns the transformation axes to a specified orientation constraint.\\nSee Transform Orientations for more information.\\n\\nProportional EditingThe extruded face will affect nearby geometry.\\nSee Proportional Editing for a full reference.\\n\\nNote\\nEven with the Proportional Size set to it’s minimum,\\nit will extrude the selected face as well as the new geometry and they will be layered on top of each other.'),\n",
       "  Document(id='53e1bc33-96f2-40dc-917a-399e80b026c2', metadata={'source': 'https://docs.blender.org/manual/en/4.5/modeling/meshes/editing/face/extrude_individual_faces.html', 'info': 'Extrude Individual Faces', 'version': '4.5'}, page_content='Extrude Individual Faces¶\\n\\nReference\\n\\nMode:\\nEdit Mode\\n\\nTool:\\nToolbar ‣ Extrude Individual\\n\\nMenu:\\nFace ‣ Extrude Individual Faces,\\nMesh ‣ Extrude ‣ Extrude Individual Faces\\n\\n\\n\\nThis tool allows you to extrude a selection of multiple faces as individuals, instead of as a region.\\nThe faces are extruded along their own normals, rather than their average.\\nThis has several consequences: first, “internal” edges\\n(i.e. edges between two selected faces) are no longer deleted (the original faces are).\\n\\n\\n\\n\\n\\n\\n\\nSelection of multiple faces.¶\\n\\n\\n\\n\\n\\n\\n\\nExtruded using extrude region.¶\\n\\n\\n\\n\\n\\n\\n\\nExtruded using Extrude Individual.¶'),\n",
       "  Document(id='df23856f-ee96-430a-b77d-82d59364985b', metadata={'source': 'https://docs.blender.org/manual/en/4.5/modeling/meshes/tools/extrude_region.html', 'info': 'Extrude Region', 'version': '4.5'}, page_content='Selected face.¶\\n\\n\\n\\n\\n\\n\\n\\nDuring extrude.¶\\n\\n\\n\\n\\n\\n\\n\\nSet to Z axis.¶\\n\\n\\n\\n\\n\\n\\n\\n\\nDetails¶\\nAlthough the process is quite intuitive,\\nthe principles behind Extrude are fairly elaborate as discussed below:\\n\\nFirst, the algorithm determines the outside edge loop of the extrude; that is,\\nwhich among the selected edges will be changed into faces. By default (see below),\\nthe algorithm considers edges belonging to two or more selected faces as internal, and hence not part of the loop.\\nThe edges in the edge loop are then changed into faces.\\nIf the edges in the edge loop belong to only one face in the complete mesh,\\nthen all of the selected faces are duplicated and linked to the newly created faces. For example,\\nrectangles will result in parallelepipeds during this stage.\\nIn other cases, the selected faces are linked to the newly created faces but not duplicated.\\nThis prevents undesired faces from being retained “inside” the resulting mesh.\\nThis distinction is extremely important since it ensures the construction of consistently coherent,\\nclosed volumes at all times when using Extrude.\\nWhen extruding completely closed volumes (like e.g. a cube with all its six faces),\\nextrusion results merely in a duplication, as the volume is duplicated, without any link to the original one.\\nEdges not belonging to selected faces, which form an “open” edge loop,\\nare duplicated and a new face is created between the new edge and the original one.\\nSingle selected vertices which do not belong to selected edges\\nare duplicated and a new edge is created between the two.'),\n",
       "  Document(id='c9ec412c-d134-4faf-8fb9-02aef545665c', metadata={'source': 'https://docs.blender.org/manual/en/4.5/modeling/geometry_nodes/mesh/operations/extrude_mesh.html', 'info': 'Extrude Mesh Node', 'version': '4.5'}, page_content='Extrude Mesh Node¶\\n\\n\\n\\nThe Extrude Mesh Node generates new edges or faces on the selected geometry elements\\nand moves them by a certain offset.\\nThe operations are similar to the extrude tools\\nin mesh edit mode, though there are some differences. Most importantly, the node never keeps the back-faces\\nof the extrusion in place, they are always removed. Attribute propagation rules may also be different.\\n\\nInputs¶\\n\\nMeshStandard geometry input.\\n\\nSelectionA boolean field indicating which elements should be extruded.\\n\\nOffsetThe translation vector for each extruded element. By default, this is the element’s\\nnormal.\\n\\nTip\\nIf all the elements are extruded in the same direction, you may be able to improve performance\\nby connecting a Vector Node to this input,\\nthereby skipping the normal calculation.\\n\\n\\nOffset ScaleScaling factor for the above translation vector.\\n\\nIndividual Face Mode OnlyWhether to extrude each face individually rather than extruding connected groups of faces together.\\n\\n\\n\\n\\nProperties¶\\n\\nMode\\nVertices:\\nAttaches a new freestanding edge to each selected vertex.\\n\\nEdges:\\nAttaches a new quad face to each selected edges. Vertices shared by the\\noriginal selected edges are also shared in the duplicated edges.\\n\\nNote\\nDepending on the situation, the normals of the new faces may be arbitrary. If the selected\\nedges each have only one connected face, then the node can pick a consistent orientation for the\\nnew faces, but if there is more than one connected face, or no connected faces, the normals\\nmay have to be adjusted afterwards.')],\n",
       " 'answer': 'To extrude a face, you can follow these steps:\\n\\n1. Select the face you want to extrude.\\n2. Go to the menu and select \"Face\" > \"Extrude Faces\" or press the \\'E\\' key on your keyboard.\\n3. The extrusion process will begin, and the selected face will be duplicated along with new geometry that is connected to the original vertices.\\n\\nNote: The extrusion process can be customized by adjusting settings such as the axis of extrusion, whether to flip normals, and more.',\n",
       " 'suggestions': 'Here are some related short questions or ideas the user may be interested to search:\\n\\n1. How to customize extrusion settings in Blender?\\n2. What is the difference between face and edge extrusion in Blender?\\n3. Can you combine multiple faces with a single extrusion operation in Blender?',\n",
       " 'search_state': <SearchState.REWRITE_SEARCH: 1>,\n",
       " 'allow_external_search': False,\n",
       " 'session_id': 99,\n",
       " 'ai_memory': [],\n",
       " 'is_memory_enabled': True}"
      ]
     },
     "execution_count": 74,
     "metadata": {},
     "output_type": "execute_result"
    }
   ],
   "source": [
    "final_state"
   ]
  },
  {
   "cell_type": "code",
   "execution_count": 75,
   "id": "e054c1eb",
   "metadata": {},
   "outputs": [
    {
     "name": "stdout",
     "output_type": "stream",
     "text": [
      "To extrude a face, you can follow these steps:\n",
      "\n",
      "1. Select the face you want to extrude.\n",
      "2. Go to the menu and select \"Face\" > \"Extrude Faces\" or press the 'E' key on your keyboard.\n",
      "3. The extrusion process will begin, and the selected face will be duplicated along with new geometry that is connected to the original vertices.\n",
      "\n",
      "Note: The extrusion process can be customized by adjusting settings such as the axis of extrusion, whether to flip normals, and more. \n",
      "\n",
      " Here are some related short questions or ideas the user may be interested to search:\n",
      "\n",
      "1. How to customize extrusion settings in Blender?\n",
      "2. What is the difference between face and edge extrusion in Blender?\n",
      "3. Can you combine multiple faces with a single extrusion operation in Blender?\n"
     ]
    }
   ],
   "source": [
    "print(final_state['answer'],'\\n\\n',final_state['suggestions'])"
   ]
  },
  {
   "cell_type": "code",
   "execution_count": 76,
   "id": "9ec823f9",
   "metadata": {},
   "outputs": [],
   "source": [
    "save_ai_memory(final_state)"
   ]
  },
  {
   "cell_type": "code",
   "execution_count": 79,
   "id": "ee9a3549",
   "metadata": {},
   "outputs": [
    {
     "name": "stdout",
     "output_type": "stream",
     "text": [
      "-----check_context_condition-----\n",
      "-----tool_choice_node-----\n",
      "--- Vector db search ---\n",
      "-----rewrite_node-----\n",
      "-----tool_choice_node-----\n",
      "--- Vector db search ---\n",
      "-----answer_node-----\n",
      "-----recomendations_node-----\n"
     ]
    }
   ],
   "source": [
    "initial_state = get_initial_state(question='And how can I inset a face?',session_id=99)\n",
    "final_state = graph.invoke(initial_state)"
   ]
  },
  {
   "cell_type": "code",
   "execution_count": 80,
   "id": "6fb70002",
   "metadata": {},
   "outputs": [
    {
     "name": "stdout",
     "output_type": "stream",
     "text": [
      "To insert a face in Blender, you need to select two or more vertices and then use Ctrl-RMB click. This will create a planar face, also known as a quad, following the direction of your mouse cursor and using the planar view from your viewport. The extrusion process can be customized by adjusting settings such as the axis of extrusion, whether to flip normals, and more.\n",
      "\n",
      "Note: If you have three or more vertices selected, Ctrl-RMB click will create planar faces along the vertices selected, following the direction of the cursor. \n",
      "\n",
      " Based on the context of inserting a face in Blender and using Ctrl-RMB click, here are some related short questions or ideas that the user may be interested to search:\n",
      "\n",
      "1. How do I select multiple vertices in Blender?\n",
      "2. What is the difference between selecting edges vs. vertices in Blender?\n",
      "3. Can I create a non-planar surface by selecting multiple edges instead of vertices?\n"
     ]
    }
   ],
   "source": [
    "print(final_state['answer'],'\\n\\n',final_state['suggestions'])"
   ]
  },
  {
   "cell_type": "code",
   "execution_count": 82,
   "id": "ce445635",
   "metadata": {},
   "outputs": [],
   "source": [
    "save_ai_memory(final_state)"
   ]
  },
  {
   "cell_type": "code",
   "execution_count": null,
   "id": "02cef7eb",
   "metadata": {},
   "outputs": [
    {
     "name": "stdout",
     "output_type": "stream",
     "text": [
      "-----check_context_condition-----\n",
      "-----tool_choice_node-----\n",
      "--- Vector db search ---\n",
      "-----answer_node-----\n",
      "-----recomendations_node-----\n"
     ]
    }
   ],
   "source": [
    "initial_state = get_initial_state(question=\"I didn't mean insert, I mean inset a face.\",session_id=99)\n",
    "final_state = graph.invoke(initial_state)"
   ]
  },
  {
   "cell_type": "code",
   "execution_count": 86,
   "id": "428360d9",
   "metadata": {},
   "outputs": [
    {
     "name": "stdout",
     "output_type": "stream",
     "text": [
      "To inset a face in Blender, select two or more vertices and then use Ctrl-RMB click. This will create a planar face, also known as a quad, following the direction of your mouse cursor and using the planar view from your viewport. The extrusion process can be customized by adjusting settings such as the axis of extrusion, whether to flip normals, and more.\n",
      "\n",
      "Note: If you have three or more vertices selected, Ctrl-RMB click will create planar faces along the vertices selected, following the direction of the cursor. \n",
      "\n",
      " Based on the context of insetting a face in Blender and using Ctrl-RMB click, here are some related short questions or ideas that the user may be interested to search:\n",
      "\n",
      "1. How do I select multiple edges in Blender?\n",
      "2. What is the difference between selecting edges vs. faces/vertices in Blender when it comes to insetting/extruding operations?\n",
      "3. Can I customize the size of the insetted face using Blender's tools?\n"
     ]
    }
   ],
   "source": [
    "print(final_state['answer'],'\\n\\n',final_state['suggestions'])"
   ]
  },
  {
   "cell_type": "code",
   "execution_count": 87,
   "id": "2f97b5b9",
   "metadata": {},
   "outputs": [
    {
     "name": "stdout",
     "output_type": "stream",
     "text": [
      "-----check_context_condition-----\n",
      "-----tool_choice_node-----\n",
      "--- Vector db search ---\n",
      "-----rewrite_node-----\n",
      "-----tool_choice_node-----\n",
      "--- Vector db search ---\n",
      "-----answer_node-----\n",
      "-----recomendations_node-----\n"
     ]
    }
   ],
   "source": [
    "initial_state = get_initial_state(question=\"How to inset a face?\",session_id=101)\n",
    "final_state = graph.invoke(initial_state)"
   ]
  },
  {
   "cell_type": "code",
   "execution_count": 88,
   "id": "bdb0f572",
   "metadata": {},
   "outputs": [
    {
     "data": {
      "text/plain": [
       "{'question': 'How can I insert a face in Blender using the 3D modeling tools?',\n",
       " 'search_query': AIMessage(content='', additional_kwargs={}, response_metadata={'model': 'llama3.2:3b', 'created_at': '2025-09-04T17:42:28.8543862Z', 'done': True, 'done_reason': 'stop', 'total_duration': 534427200, 'load_duration': 210174400, 'prompt_eval_count': 201, 'prompt_eval_duration': 11693800, 'eval_count': 27, 'eval_duration': 311366400, 'model_name': 'llama3.2:3b'}, id='run--80d43b90-426f-4045-8524-cddc7a95b91d-0', tool_calls=[{'name': 'vectordb_search_tool', 'args': {'query': 'insert face blender 3D modeling tools'}, 'id': 'afe9f00c-d9a5-4292-97d4-aae7de3413f8', 'type': 'tool_call'}], usage_metadata={'input_tokens': 201, 'output_tokens': 27, 'total_tokens': 228}),\n",
       " 'search_result': [Document(id='b443a1fb-09ff-4178-81b9-002fc4e35c95', metadata={'source': 'https://docs.blender.org/manual/en/4.5/sculpt_paint/sculpting/editing/face_sets.html', 'info': 'Face Sets', 'version': '4.5'}, page_content='Grow/Shrink Face Sets¶\\n\\nReference\\n\\nMode:\\nSculpt Mode\\n\\nMenu:\\nFace Sets ‣ Grow/Shrink Face Sets\\n\\nTool:\\nEdit Face Set\\n\\nShortcut:\\nCtrl-W, Ctrl-Alt-W\\n\\n\\n\\nExpands or contracts the face set under the cursor by adding or removing surrounding faces.\\n\\n\\nExpand Face Set¶\\n\\nNote\\nMore info on Face Set Expand at the Expand page.\\n\\n\\n\\nExtract Face Set¶\\n\\nReference\\n\\nMode:\\nSculpt Mode\\n\\nMenu:\\nFace Sets ‣ Extract Face Set\\n\\n\\n\\nCreates a new mesh based on the selected face set.\\nOnce the operator is initiated, hover over the face set and LMB to create the new mesh.\\nAfter the operator is finished the new mesh will be selected in Object Mode.\\n\\n\\nRandomize Colors¶\\n\\nReference\\n\\nMode:\\nSculpt Mode\\n\\nMenu:\\nFace Sets ‣ Randomize Colors\\n\\n\\n\\nGenerates a new set of random colors to render the face sets in the 3D Viewport.\\n\\n\\nDisplay Settings¶\\n\\nReference\\n\\nMode:\\nSculpt Mode\\n\\nPopover:\\nViewport Overlays – Sculpt ‣ Face Sets\\n\\n\\n\\nThe face sets display can be toggled as a viewport overlay.\\nIn the overlay popover, the opacity of the face sets overlay can be adjusted\\nto make it more or less visible on the mesh.'),\n",
       "  Document(id='52004c5e-e604-4a62-b677-4cd431751a76', metadata={'source': 'https://docs.blender.org/manual/en/4.5/sculpt_paint/sculpting/tools/face_set_tools.html', 'info': 'Face Set Gesture Tools', 'version': '4.5'}, page_content='Face Set Gesture Tools¶\\n\\nReference\\n\\nMode:\\nSculpt Mode\\n\\n\\n\\nFace Set gesture tools apply a single new Face Set to all faces within the selection area.\\nAll Face Set gesture tools can be activated in the Toolbar and are comprised of the following:\\n\\nBox Face Set¶\\n\\nReference\\n\\nMode:\\nSculpt Mode\\n\\nTool:\\nToolbar ‣ Box Face Set\\n\\n\\n\\nCreates a new Face Set\\nbased on a box gesture.\\n\\n\\nLasso Face Set¶\\n\\nReference\\n\\nMode:\\nSculpt Mode\\n\\nTool:\\nToolbar ‣ Lasso Face Set\\n\\n\\n\\nCreates a new Face Set\\nbased on a lasso gesture.\\n\\n\\nLine Face Set¶\\n\\nReference\\n\\nMode:\\nSculpt Mode\\n\\nTool:\\nToolbar ‣ Line Face Set\\n\\n\\n\\nCreates a new Face Set\\nbased on a line gesture.\\n\\n\\nPolyline Face Set¶\\n\\nReference\\n\\nMode:\\nSculpt Mode\\n\\nTool:\\nToolbar ‣ Polyline Face Set\\n\\n\\n\\nCreates a new Face Set\\nbased on a polyline gesture.\\n\\n\\nTool Settings¶\\n\\nFront Faces OnlyOnly creates a face set on the faces that face towards the view.'),\n",
       "  Document(id='d05b283c-aaee-4a18-a117-6be09fd43030', metadata={'source': 'https://docs.blender.org/manual/en/4.5/sculpt_paint/sculpting/tools/edit_face_set.html', 'info': 'Edit Face Set', 'version': '4.5'}, page_content='Edit Face Set¶\\n\\nReference\\n\\nMode:\\nSculpt Mode\\n\\nTool:\\nToolbar ‣ Edit Face Set\\n\\nOperator:\\nGrow/Shrink Face Sets\\n\\n\\n\\nEdits the Face Set under the cursor.\\n\\nTool Settings¶\\n\\nModeThe operation to apply to the face set.\\n\\nGrow Face Set:\\nGrows the face sets boundary by one face based on mesh topology.\\nThis is also available as a shortcut operator\\nvia Ctrl-W.\\n\\nShrink Face Set:\\nShrinks the face sets boundary by one face based on mesh topology.\\nThis is also available as a shortcut operator\\nvia Ctrl-Alt-W.\\n\\nDelete Geometry:\\nDeletes the faces that are assigned to the face set.\\n\\nFair Positions:\\nCreates a perfectly flat and smooth geometry patch from the face set.\\nThis is the ideal way to trim parts of your mesh\\nif the vertex count is too high for other operations,\\nor the vertex IDs must not be altered\\n(Like when using Multires sculpting).\\n\\nFair Tangency:\\nCreates a smooth as possible geometry patch from the face set\\nby minimizing changes in vertex tangents.\\nThis is ideal for creating smooth curved surfaces on complex topology,\\nwhere just using the smooth brush will not lead to desired results\\n\\n\\n\\n\\n\\n\\n\\n\\nBefore fairing.¶\\n\\n\\n\\n\\n\\n\\nAfter using Fair Positions.¶\\n\\n\\n\\n\\n\\n\\nAfter using Fair Tangency.¶\\n\\n\\n\\n\\n\\n\\n\\n\\nStrengthThe amount of effect the filter has on the mesh.\\nThis setting is only available for the fairing operations.\\n\\nModify HiddenApply the edit operation to hidden face sets.'),\n",
       "  Document(id='f0103f79-91a2-48c8-a1d5-c8493deb213f', metadata={'source': 'https://docs.blender.org/manual/en/4.5/sculpt_paint/sculpting/introduction/visibility_masking_face_sets.html', 'info': 'Visibility, Masking & Face Sets', 'version': '4.5'}, page_content='See also\\nMore information about editing and using masks at the Mask Menu\\n\\n\\n\\n\\nFace Sets¶\\n\\n\\n\\nFace sets are used to group your mesh into differently colored faces,\\nwhich can then be quickly hidden or shown like mentioned above.\\nThey can also be used for fast mask creation via the Mask Expand.\\nFace Set Expand is also useful for creating, editing and joining face sets.\\nMore options can be found in the Alt-W pie menu.\\n\\n\\n\\nOtherwise Face Sets can be created/edited with the\\nDraw Face Sets brush,\\nMask Gesture Tools.\\nThey can also be edited with the\\nEdit Face Set tool.\\n\\nSee also\\nMore information about editing and using face sets at the\\nFace Sets Menu\\n\\nInternally, face sets are stored using the sculpt_face_set Attributes.\\n\\n\\nAuto-Masking¶\\nAuto-Masking is also a fast way of only editing specific geometry\\nwithout having to manually create a new mask or hide geometry.\\nThis feature is especially useful in combination with face sets.\\n\\n\\n\\n\\n\\nDisplay Settings¶\\nThe mask and face sets display can be toggled and adjusted in the Display Settings.\\n\\n\\n\\n\\nNote\\nWhen Xray shading is enabled, masks and face sets will not be displayed.')],\n",
       " 'answer': 'Unfortunately, the provided context does not mention anything about inserting a face into Blender using 3D modeling tools. The context appears to be related to sculpting and editing face sets in Blender, but it does not provide information on how to add or insert faces into a mesh. If you could provide more context or clarify your question, I would be happy to try and assist you further.',\n",
       " 'suggestions': \"Based on the context of inserting a face into Blender using 3D modeling tools, here are three potential related questions or ideas that the user may be interested in searching:\\n\\n1. How to create a new mesh in Blender and add faces to it\\n2. Tips for manipulating edges in Blender's 3D modeling mode\\n3. Introduction to polygon modeling in Blender and face insertion techniques\",\n",
       " 'search_state': <SearchState.END_SEARCH: 3>,\n",
       " 'allow_external_search': False,\n",
       " 'session_id': 101,\n",
       " 'ai_memory': [],\n",
       " 'is_memory_enabled': True}"
      ]
     },
     "execution_count": 88,
     "metadata": {},
     "output_type": "execute_result"
    }
   ],
   "source": [
    "final_state"
   ]
  },
  {
   "cell_type": "code",
   "execution_count": null,
   "id": "d4a20098",
   "metadata": {},
   "outputs": [],
   "source": []
  },
  {
   "cell_type": "code",
   "execution_count": 90,
   "id": "9cd512f3",
   "metadata": {},
   "outputs": [
    {
     "name": "stdout",
     "output_type": "stream",
     "text": [
      "-----check_context_condition-----\n",
      "-----out_of_context_node-----\n"
     ]
    }
   ],
   "source": [
    "initial_state = get_initial_state(question='How to cook rice?',session_id=99)\n",
    "final_state = graph.invoke(initial_state)"
   ]
  },
  {
   "cell_type": "code",
   "execution_count": null,
   "id": "b198133a",
   "metadata": {},
   "outputs": [],
   "source": []
  },
  {
   "cell_type": "code",
   "execution_count": null,
   "id": "063ac7fd",
   "metadata": {},
   "outputs": [],
   "source": []
  }
 ],
 "metadata": {
  "kernelspec": {
   "display_name": "ml_web_env",
   "language": "python",
   "name": "python3"
  },
  "language_info": {
   "codemirror_mode": {
    "name": "ipython",
    "version": 3
   },
   "file_extension": ".py",
   "mimetype": "text/x-python",
   "name": "python",
   "nbconvert_exporter": "python",
   "pygments_lexer": "ipython3",
   "version": "3.11.13"
  }
 },
 "nbformat": 4,
 "nbformat_minor": 5
}
